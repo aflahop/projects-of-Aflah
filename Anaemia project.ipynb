{
 "cells": [
  {
   "cell_type": "code",
   "execution_count": 66,
   "id": "cf081040-9c18-4b7b-b7da-99a20bba8ce1",
   "metadata": {},
   "outputs": [],
   "source": [
    "import pandas as pd\n",
    "import numpy as np\n",
    "from sklearn.preprocessing import LabelEncoder\n",
    "from sklearn.linear_model import LogisticRegression\n",
    "from sklearn.ensemble import RandomForestClassifier\n",
    "from sklearn.tree import DecisionTreeClassifier\n",
    "from sklearn.naive_bayes import GaussianNB,BernoulliNB\n",
    "from sklearn.svm import SVC\n",
    "from sklearn.neighbors import KNeighborsClassifier\n",
    "import matplotlib.pyplot as plt\n",
    "from sklearn.model_selection import train_test_split\n",
    "from sklearn.metrics import confusion_matrix\n",
    "from sklearn.model_selection import GridSearchCV\n",
    "from sklearn.metrics import accuracy_score, precision_score, recall_score, f1_score, classification_report"
   ]
  },
  {
   "cell_type": "code",
   "execution_count": 38,
   "id": "9d0ba897-0481-4bd9-bf82-e0a7bdda1fd3",
   "metadata": {},
   "outputs": [
    {
     "data": {
      "text/html": [
       "<div>\n",
       "<style scoped>\n",
       "    .dataframe tbody tr th:only-of-type {\n",
       "        vertical-align: middle;\n",
       "    }\n",
       "\n",
       "    .dataframe tbody tr th {\n",
       "        vertical-align: top;\n",
       "    }\n",
       "\n",
       "    .dataframe thead th {\n",
       "        text-align: right;\n",
       "    }\n",
       "</style>\n",
       "<table border=\"1\" class=\"dataframe\">\n",
       "  <thead>\n",
       "    <tr style=\"text-align: right;\">\n",
       "      <th></th>\n",
       "      <th>Sex</th>\n",
       "      <th>Red_Pixel</th>\n",
       "      <th>Green_pixel</th>\n",
       "      <th>Blue_pixel</th>\n",
       "      <th>Hb</th>\n",
       "      <th>Anaemic</th>\n",
       "    </tr>\n",
       "  </thead>\n",
       "  <tbody>\n",
       "    <tr>\n",
       "      <th>0</th>\n",
       "      <td>M</td>\n",
       "      <td>43.170845</td>\n",
       "      <td>30.945626</td>\n",
       "      <td>25.921971</td>\n",
       "      <td>6.252659</td>\n",
       "      <td>Yes</td>\n",
       "    </tr>\n",
       "    <tr>\n",
       "      <th>1</th>\n",
       "      <td>F</td>\n",
       "      <td>43.163481</td>\n",
       "      <td>30.306974</td>\n",
       "      <td>26.759843</td>\n",
       "      <td>8.578865</td>\n",
       "      <td>Yes</td>\n",
       "    </tr>\n",
       "    <tr>\n",
       "      <th>2</th>\n",
       "      <td>F</td>\n",
       "      <td>46.269997</td>\n",
       "      <td>27.315656</td>\n",
       "      <td>26.028556</td>\n",
       "      <td>9.640936</td>\n",
       "      <td>Yes</td>\n",
       "    </tr>\n",
       "    <tr>\n",
       "      <th>3</th>\n",
       "      <td>F</td>\n",
       "      <td>45.054787</td>\n",
       "      <td>30.469816</td>\n",
       "      <td>24.460797</td>\n",
       "      <td>4.794217</td>\n",
       "      <td>Yes</td>\n",
       "    </tr>\n",
       "    <tr>\n",
       "      <th>4</th>\n",
       "      <td>NaN</td>\n",
       "      <td>45.061884</td>\n",
       "      <td>NaN</td>\n",
       "      <td>24.071714</td>\n",
       "      <td>8.865329</td>\n",
       "      <td>Yes</td>\n",
       "    </tr>\n",
       "    <tr>\n",
       "      <th>...</th>\n",
       "      <td>...</td>\n",
       "      <td>...</td>\n",
       "      <td>...</td>\n",
       "      <td>...</td>\n",
       "      <td>...</td>\n",
       "      <td>...</td>\n",
       "    </tr>\n",
       "    <tr>\n",
       "      <th>495</th>\n",
       "      <td>F</td>\n",
       "      <td>45.749211</td>\n",
       "      <td>27.630846</td>\n",
       "      <td>26.865636</td>\n",
       "      <td>13.760084</td>\n",
       "      <td>No</td>\n",
       "    </tr>\n",
       "    <tr>\n",
       "      <th>496</th>\n",
       "      <td>F</td>\n",
       "      <td>44.929398</td>\n",
       "      <td>30.271085</td>\n",
       "      <td>24.501944</td>\n",
       "      <td>11.588917</td>\n",
       "      <td>No</td>\n",
       "    </tr>\n",
       "    <tr>\n",
       "      <th>497</th>\n",
       "      <td>F</td>\n",
       "      <td>43.452565</td>\n",
       "      <td>29.784122</td>\n",
       "      <td>26.764283</td>\n",
       "      <td>12.460060</td>\n",
       "      <td>No</td>\n",
       "    </tr>\n",
       "    <tr>\n",
       "      <th>498</th>\n",
       "      <td>F</td>\n",
       "      <td>43.224231</td>\n",
       "      <td>29.742489</td>\n",
       "      <td>26.866944</td>\n",
       "      <td>12.074058</td>\n",
       "      <td>No</td>\n",
       "    </tr>\n",
       "    <tr>\n",
       "      <th>499</th>\n",
       "      <td>F</td>\n",
       "      <td>47.353782</td>\n",
       "      <td>26.554186</td>\n",
       "      <td>25.501462</td>\n",
       "      <td>15.207297</td>\n",
       "      <td>No</td>\n",
       "    </tr>\n",
       "  </tbody>\n",
       "</table>\n",
       "<p>500 rows × 6 columns</p>\n",
       "</div>"
      ],
      "text/plain": [
       "     Sex  Red_Pixel  Green_pixel  Blue_pixel         Hb Anaemic\n",
       "0      M  43.170845    30.945626   25.921971   6.252659     Yes\n",
       "1      F  43.163481    30.306974   26.759843   8.578865     Yes\n",
       "2      F  46.269997    27.315656   26.028556   9.640936     Yes\n",
       "3      F  45.054787    30.469816   24.460797   4.794217     Yes\n",
       "4    NaN  45.061884          NaN   24.071714   8.865329     Yes\n",
       "..   ...        ...          ...         ...        ...     ...\n",
       "495    F  45.749211    27.630846   26.865636  13.760084      No\n",
       "496    F  44.929398    30.271085   24.501944  11.588917      No\n",
       "497    F  43.452565    29.784122   26.764283  12.460060      No\n",
       "498    F  43.224231    29.742489   26.866944  12.074058      No\n",
       "499    F  47.353782    26.554186   25.501462  15.207297      No\n",
       "\n",
       "[500 rows x 6 columns]"
      ]
     },
     "execution_count": 38,
     "metadata": {},
     "output_type": "execute_result"
    }
   ],
   "source": [
    "anaemic=pd.read_csv(\"d_output.csv\")\n",
    "anaemic=anaemic.drop([\"Number\"],axis=1)\n",
    "anaemic"
   ]
  },
  {
   "cell_type": "code",
   "execution_count": 39,
   "id": "849d98b3-5e1b-42c6-aae0-f2abd95a79fb",
   "metadata": {},
   "outputs": [
    {
     "data": {
      "text/plain": [
       "Sex            6\n",
       "Red_Pixel      1\n",
       "Green_pixel    4\n",
       "Blue_pixel     4\n",
       "Hb             1\n",
       "Anaemic        0\n",
       "dtype: int64"
      ]
     },
     "execution_count": 39,
     "metadata": {},
     "output_type": "execute_result"
    }
   ],
   "source": [
    "anaemic.isnull().sum()"
   ]
  },
  {
   "cell_type": "code",
   "execution_count": 40,
   "id": "4caba11e-833b-4434-a3f4-064a267a4153",
   "metadata": {},
   "outputs": [
    {
     "data": {
      "text/plain": [
       "(500, 6)"
      ]
     },
     "execution_count": 40,
     "metadata": {},
     "output_type": "execute_result"
    }
   ],
   "source": [
    "anaemic.shape"
   ]
  },
  {
   "cell_type": "code",
   "execution_count": 41,
   "id": "866aa1de-9880-44e5-9eb2-db833e7bb988",
   "metadata": {},
   "outputs": [
    {
     "data": {
      "text/plain": [
       "Sex             object\n",
       "Red_Pixel      float64\n",
       "Green_pixel    float64\n",
       "Blue_pixel     float64\n",
       "Hb             float64\n",
       "Anaemic         object\n",
       "dtype: object"
      ]
     },
     "execution_count": 41,
     "metadata": {},
     "output_type": "execute_result"
    }
   ],
   "source": [
    "anaemic.dtypes"
   ]
  },
  {
   "cell_type": "code",
   "execution_count": 42,
   "id": "f3ac7352-d28b-4e60-813d-6701dc4684ba",
   "metadata": {},
   "outputs": [],
   "source": [
    "anaemic.Sex=anaemic.Sex.fillna(anaemic.Sex.mode()[0])\n",
    "anaemic.Red_Pixel=anaemic.Red_Pixel.fillna(anaemic.Red_Pixel.mean())\n",
    "anaemic.Green_pixel=anaemic.Green_pixel.fillna(anaemic.Green_pixel.mean())\n",
    "anaemic.Blue_pixel=anaemic.Blue_pixel.fillna(anaemic.Blue_pixel.mean())\n",
    "anaemic.Hb=anaemic.Hb.fillna(anaemic.Hb.mean())"
   ]
  },
  {
   "cell_type": "code",
   "execution_count": 43,
   "id": "8ba9baee-4f0e-4cfe-87f9-3ce17414c5a2",
   "metadata": {},
   "outputs": [
    {
     "data": {
      "text/html": [
       "<div>\n",
       "<style scoped>\n",
       "    .dataframe tbody tr th:only-of-type {\n",
       "        vertical-align: middle;\n",
       "    }\n",
       "\n",
       "    .dataframe tbody tr th {\n",
       "        vertical-align: top;\n",
       "    }\n",
       "\n",
       "    .dataframe thead th {\n",
       "        text-align: right;\n",
       "    }\n",
       "</style>\n",
       "<table border=\"1\" class=\"dataframe\">\n",
       "  <thead>\n",
       "    <tr style=\"text-align: right;\">\n",
       "      <th></th>\n",
       "      <th>Sex</th>\n",
       "      <th>Red_Pixel</th>\n",
       "      <th>Green_pixel</th>\n",
       "      <th>Blue_pixel</th>\n",
       "      <th>Hb</th>\n",
       "      <th>Anaemic</th>\n",
       "    </tr>\n",
       "  </thead>\n",
       "  <tbody>\n",
       "    <tr>\n",
       "      <th>0</th>\n",
       "      <td>M</td>\n",
       "      <td>43.170845</td>\n",
       "      <td>30.945626</td>\n",
       "      <td>25.921971</td>\n",
       "      <td>6.252659</td>\n",
       "      <td>Yes</td>\n",
       "    </tr>\n",
       "    <tr>\n",
       "      <th>1</th>\n",
       "      <td>F</td>\n",
       "      <td>43.163481</td>\n",
       "      <td>30.306974</td>\n",
       "      <td>26.759843</td>\n",
       "      <td>8.578865</td>\n",
       "      <td>Yes</td>\n",
       "    </tr>\n",
       "    <tr>\n",
       "      <th>2</th>\n",
       "      <td>F</td>\n",
       "      <td>46.269997</td>\n",
       "      <td>27.315656</td>\n",
       "      <td>26.028556</td>\n",
       "      <td>9.640936</td>\n",
       "      <td>Yes</td>\n",
       "    </tr>\n",
       "    <tr>\n",
       "      <th>3</th>\n",
       "      <td>F</td>\n",
       "      <td>45.054787</td>\n",
       "      <td>30.469816</td>\n",
       "      <td>24.460797</td>\n",
       "      <td>4.794217</td>\n",
       "      <td>Yes</td>\n",
       "    </tr>\n",
       "    <tr>\n",
       "      <th>4</th>\n",
       "      <td>F</td>\n",
       "      <td>45.061884</td>\n",
       "      <td>29.385491</td>\n",
       "      <td>24.071714</td>\n",
       "      <td>8.865329</td>\n",
       "      <td>Yes</td>\n",
       "    </tr>\n",
       "    <tr>\n",
       "      <th>...</th>\n",
       "      <td>...</td>\n",
       "      <td>...</td>\n",
       "      <td>...</td>\n",
       "      <td>...</td>\n",
       "      <td>...</td>\n",
       "      <td>...</td>\n",
       "    </tr>\n",
       "    <tr>\n",
       "      <th>495</th>\n",
       "      <td>F</td>\n",
       "      <td>45.749211</td>\n",
       "      <td>27.630846</td>\n",
       "      <td>26.865636</td>\n",
       "      <td>13.760084</td>\n",
       "      <td>No</td>\n",
       "    </tr>\n",
       "    <tr>\n",
       "      <th>496</th>\n",
       "      <td>F</td>\n",
       "      <td>44.929398</td>\n",
       "      <td>30.271085</td>\n",
       "      <td>24.501944</td>\n",
       "      <td>11.588917</td>\n",
       "      <td>No</td>\n",
       "    </tr>\n",
       "    <tr>\n",
       "      <th>497</th>\n",
       "      <td>F</td>\n",
       "      <td>43.452565</td>\n",
       "      <td>29.784122</td>\n",
       "      <td>26.764283</td>\n",
       "      <td>12.460060</td>\n",
       "      <td>No</td>\n",
       "    </tr>\n",
       "    <tr>\n",
       "      <th>498</th>\n",
       "      <td>F</td>\n",
       "      <td>43.224231</td>\n",
       "      <td>29.742489</td>\n",
       "      <td>26.866944</td>\n",
       "      <td>12.074058</td>\n",
       "      <td>No</td>\n",
       "    </tr>\n",
       "    <tr>\n",
       "      <th>499</th>\n",
       "      <td>F</td>\n",
       "      <td>47.353782</td>\n",
       "      <td>26.554186</td>\n",
       "      <td>25.501462</td>\n",
       "      <td>15.207297</td>\n",
       "      <td>No</td>\n",
       "    </tr>\n",
       "  </tbody>\n",
       "</table>\n",
       "<p>500 rows × 6 columns</p>\n",
       "</div>"
      ],
      "text/plain": [
       "    Sex  Red_Pixel  Green_pixel  Blue_pixel         Hb Anaemic\n",
       "0     M  43.170845    30.945626   25.921971   6.252659     Yes\n",
       "1     F  43.163481    30.306974   26.759843   8.578865     Yes\n",
       "2     F  46.269997    27.315656   26.028556   9.640936     Yes\n",
       "3     F  45.054787    30.469816   24.460797   4.794217     Yes\n",
       "4     F  45.061884    29.385491   24.071714   8.865329     Yes\n",
       "..   ..        ...          ...         ...        ...     ...\n",
       "495   F  45.749211    27.630846   26.865636  13.760084      No\n",
       "496   F  44.929398    30.271085   24.501944  11.588917      No\n",
       "497   F  43.452565    29.784122   26.764283  12.460060      No\n",
       "498   F  43.224231    29.742489   26.866944  12.074058      No\n",
       "499   F  47.353782    26.554186   25.501462  15.207297      No\n",
       "\n",
       "[500 rows x 6 columns]"
      ]
     },
     "execution_count": 43,
     "metadata": {},
     "output_type": "execute_result"
    }
   ],
   "source": [
    "anaemic"
   ]
  },
  {
   "cell_type": "code",
   "execution_count": 44,
   "id": "e2b5996d-c088-405b-82ea-33be7d951eb8",
   "metadata": {},
   "outputs": [
    {
     "data": {
      "text/plain": [
       "Sex            0\n",
       "Red_Pixel      0\n",
       "Green_pixel    0\n",
       "Blue_pixel     0\n",
       "Hb             0\n",
       "Anaemic        0\n",
       "dtype: int64"
      ]
     },
     "execution_count": 44,
     "metadata": {},
     "output_type": "execute_result"
    }
   ],
   "source": [
    "anaemic.isnull().sum()"
   ]
  },
  {
   "cell_type": "code",
   "execution_count": 45,
   "id": "d4196d3e-04ed-413a-9f77-ceb70aded133",
   "metadata": {},
   "outputs": [
    {
     "name": "stdout",
     "output_type": "stream",
     "text": [
      "     Sex  Red_Pixel  Green_pixel  Blue_pixel         Hb  Anaemic\n",
      "0      1  43.170845    30.945626   25.921971   6.252659        1\n",
      "1      0  43.163481    30.306974   26.759843   8.578865        1\n",
      "2      0  46.269997    27.315656   26.028556   9.640936        1\n",
      "3      0  45.054787    30.469816   24.460797   4.794217        1\n",
      "4      0  45.061884    29.385491   24.071714   8.865329        1\n",
      "..   ...        ...          ...         ...        ...      ...\n",
      "495    0  45.749211    27.630846   26.865636  13.760084        0\n",
      "496    0  44.929398    30.271085   24.501944  11.588917        0\n",
      "497    0  43.452565    29.784122   26.764283  12.460060        0\n",
      "498    0  43.224231    29.742489   26.866944  12.074058        0\n",
      "499    0  47.353782    26.554186   25.501462  15.207297        0\n",
      "\n",
      "[500 rows x 6 columns]\n"
     ]
    }
   ],
   "source": [
    "label=LabelEncoder()\n",
    "columns=[\"Sex\",\"Anaemic\"]\n",
    "for i in columns:\n",
    "    anaemic[i]=label.fit_transform(anaemic[i])\n",
    "print(anaemic)"
   ]
  },
  {
   "cell_type": "code",
   "execution_count": 46,
   "id": "e87ea898-56d6-4e17-aa9e-db8f6cc64070",
   "metadata": {},
   "outputs": [
    {
     "data": {
      "text/html": [
       "<div>\n",
       "<style scoped>\n",
       "    .dataframe tbody tr th:only-of-type {\n",
       "        vertical-align: middle;\n",
       "    }\n",
       "\n",
       "    .dataframe tbody tr th {\n",
       "        vertical-align: top;\n",
       "    }\n",
       "\n",
       "    .dataframe thead th {\n",
       "        text-align: right;\n",
       "    }\n",
       "</style>\n",
       "<table border=\"1\" class=\"dataframe\">\n",
       "  <thead>\n",
       "    <tr style=\"text-align: right;\">\n",
       "      <th></th>\n",
       "      <th>Sex</th>\n",
       "      <th>Red_Pixel</th>\n",
       "      <th>Green_pixel</th>\n",
       "      <th>Blue_pixel</th>\n",
       "      <th>Hb</th>\n",
       "      <th>Anaemic</th>\n",
       "    </tr>\n",
       "  </thead>\n",
       "  <tbody>\n",
       "    <tr>\n",
       "      <th>Sex</th>\n",
       "      <td>1.000000</td>\n",
       "      <td>0.090792</td>\n",
       "      <td>-0.154689</td>\n",
       "      <td>-0.001437</td>\n",
       "      <td>0.216989</td>\n",
       "      <td>-0.221108</td>\n",
       "    </tr>\n",
       "    <tr>\n",
       "      <th>Red_Pixel</th>\n",
       "      <td>0.090792</td>\n",
       "      <td>1.000000</td>\n",
       "      <td>-0.747413</td>\n",
       "      <td>-0.830217</td>\n",
       "      <td>0.449678</td>\n",
       "      <td>-0.405995</td>\n",
       "    </tr>\n",
       "    <tr>\n",
       "      <th>Green_pixel</th>\n",
       "      <td>-0.154689</td>\n",
       "      <td>-0.747413</td>\n",
       "      <td>1.000000</td>\n",
       "      <td>0.266182</td>\n",
       "      <td>-0.686898</td>\n",
       "      <td>0.633185</td>\n",
       "    </tr>\n",
       "    <tr>\n",
       "      <th>Blue_pixel</th>\n",
       "      <td>-0.001437</td>\n",
       "      <td>-0.830217</td>\n",
       "      <td>0.266182</td>\n",
       "      <td>1.000000</td>\n",
       "      <td>-0.085908</td>\n",
       "      <td>0.063120</td>\n",
       "    </tr>\n",
       "    <tr>\n",
       "      <th>Hb</th>\n",
       "      <td>0.216989</td>\n",
       "      <td>0.449678</td>\n",
       "      <td>-0.686898</td>\n",
       "      <td>-0.085908</td>\n",
       "      <td>1.000000</td>\n",
       "      <td>-0.838892</td>\n",
       "    </tr>\n",
       "    <tr>\n",
       "      <th>Anaemic</th>\n",
       "      <td>-0.221108</td>\n",
       "      <td>-0.405995</td>\n",
       "      <td>0.633185</td>\n",
       "      <td>0.063120</td>\n",
       "      <td>-0.838892</td>\n",
       "      <td>1.000000</td>\n",
       "    </tr>\n",
       "  </tbody>\n",
       "</table>\n",
       "</div>"
      ],
      "text/plain": [
       "                  Sex  Red_Pixel  Green_pixel  Blue_pixel        Hb   Anaemic\n",
       "Sex          1.000000   0.090792    -0.154689   -0.001437  0.216989 -0.221108\n",
       "Red_Pixel    0.090792   1.000000    -0.747413   -0.830217  0.449678 -0.405995\n",
       "Green_pixel -0.154689  -0.747413     1.000000    0.266182 -0.686898  0.633185\n",
       "Blue_pixel  -0.001437  -0.830217     0.266182    1.000000 -0.085908  0.063120\n",
       "Hb           0.216989   0.449678    -0.686898   -0.085908  1.000000 -0.838892\n",
       "Anaemic     -0.221108  -0.405995     0.633185    0.063120 -0.838892  1.000000"
      ]
     },
     "execution_count": 46,
     "metadata": {},
     "output_type": "execute_result"
    }
   ],
   "source": [
    "anaemic.corr()"
   ]
  },
  {
   "cell_type": "code",
   "execution_count": 47,
   "id": "cb8b9c0c-b4cd-4438-a15b-2954590faf58",
   "metadata": {},
   "outputs": [
    {
     "data": {
      "text/plain": [
       "0    275\n",
       "1    225\n",
       "Name: Sex, dtype: int64"
      ]
     },
     "execution_count": 47,
     "metadata": {},
     "output_type": "execute_result"
    }
   ],
   "source": [
    "anaemic.Sex.value_counts()"
   ]
  },
  {
   "cell_type": "code",
   "execution_count": 48,
   "id": "70982a12-2378-408d-8b75-5bef78ca57f9",
   "metadata": {},
   "outputs": [
    {
     "data": {
      "text/plain": [
       "1    250\n",
       "0    250\n",
       "Name: Anaemic, dtype: int64"
      ]
     },
     "execution_count": 48,
     "metadata": {},
     "output_type": "execute_result"
    }
   ],
   "source": [
    "anaemic.Anaemic.value_counts()"
   ]
  },
  {
   "cell_type": "code",
   "execution_count": 49,
   "id": "d2282ff9-7783-4e5a-9699-95057dc71f46",
   "metadata": {},
   "outputs": [
    {
     "data": {
      "text/plain": [
       "Index(['Sex', 'Red_Pixel', 'Green_pixel', 'Blue_pixel', 'Hb', 'Anaemic'], dtype='object')"
      ]
     },
     "execution_count": 49,
     "metadata": {},
     "output_type": "execute_result"
    }
   ],
   "source": [
    "anaemic.columns"
   ]
  },
  {
   "cell_type": "code",
   "execution_count": 50,
   "id": "7f7a3d74-a5e8-49eb-94f4-535aa53a227e",
   "metadata": {},
   "outputs": [
    {
     "data": {
      "image/png": "[encoded data removed]",
      "text/plain": [
       "<Figure size 640x480 with 1 Axes>"
      ]
     },
     "metadata": {},
     "output_type": "display_data"
    }
   ],
   "source": [
    "anaemic['Sex'] = anaemic['Sex'].astype(str)\n",
    "anaemic['Anaemic'] = anaemic['Anaemic'].astype(str)\n",
    "# Create the count plot\n",
    "sex_Anaemic_plot = sns.countplot(data=anaemic, x='Sex', hue='Anaemic', palette='rocket_r')\n",
    "# Add labels to the bars\n",
    "for container in sex_Anaemic_plot.containers:\n",
    "    sex_Anaemic_plot.bar_label(container)\n",
    "plt.title(\"Relation Between Sex and Anaemic (1=Male,0=Female)\")\n",
    "plt.ylabel(\"Anaemic\")\n",
    "plt.show()"
   ]
  },
  {
   "cell_type": "code",
   "execution_count": 51,
   "id": "c338aba2-5954-4b00-86bd-9ea8a012f87c",
   "metadata": {},
   "outputs": [],
   "source": [
    "# Normal Hb Range:\n",
    "\n",
    "# Adults:\n",
    "#     Men: 13.5 to 18.0 grams per deciliter (g/dL)\n",
    "#     Women (non-pregnant): 12.0 to 15.0 g/dL"
   ]
  },
  {
   "cell_type": "code",
   "execution_count": 52,
   "id": "6dd1b851-863e-49f9-9fa5-c315bf8f3428",
   "metadata": {},
   "outputs": [
    {
     "data": {
      "text/html": [
       "<div>\n",
       "<style scoped>\n",
       "    .dataframe tbody tr th:only-of-type {\n",
       "        vertical-align: middle;\n",
       "    }\n",
       "\n",
       "    .dataframe tbody tr th {\n",
       "        vertical-align: top;\n",
       "    }\n",
       "\n",
       "    .dataframe thead th {\n",
       "        text-align: right;\n",
       "    }\n",
       "</style>\n",
       "<table border=\"1\" class=\"dataframe\">\n",
       "  <thead>\n",
       "    <tr style=\"text-align: right;\">\n",
       "      <th></th>\n",
       "      <th>Sex</th>\n",
       "      <th>Red_Pixel</th>\n",
       "      <th>Green_pixel</th>\n",
       "      <th>Blue_pixel</th>\n",
       "      <th>Hb</th>\n",
       "      <th>Anaemic</th>\n",
       "      <th>Hb_status</th>\n",
       "    </tr>\n",
       "  </thead>\n",
       "  <tbody>\n",
       "    <tr>\n",
       "      <th>0</th>\n",
       "      <td>1</td>\n",
       "      <td>43.170845</td>\n",
       "      <td>30.945626</td>\n",
       "      <td>25.921971</td>\n",
       "      <td>6.252659</td>\n",
       "      <td>1</td>\n",
       "      <td>Abnormal</td>\n",
       "    </tr>\n",
       "    <tr>\n",
       "      <th>1</th>\n",
       "      <td>0</td>\n",
       "      <td>43.163481</td>\n",
       "      <td>30.306974</td>\n",
       "      <td>26.759843</td>\n",
       "      <td>8.578865</td>\n",
       "      <td>1</td>\n",
       "      <td>Abnormal</td>\n",
       "    </tr>\n",
       "    <tr>\n",
       "      <th>2</th>\n",
       "      <td>0</td>\n",
       "      <td>46.269997</td>\n",
       "      <td>27.315656</td>\n",
       "      <td>26.028556</td>\n",
       "      <td>9.640936</td>\n",
       "      <td>1</td>\n",
       "      <td>Abnormal</td>\n",
       "    </tr>\n",
       "    <tr>\n",
       "      <th>3</th>\n",
       "      <td>0</td>\n",
       "      <td>45.054787</td>\n",
       "      <td>30.469816</td>\n",
       "      <td>24.460797</td>\n",
       "      <td>4.794217</td>\n",
       "      <td>1</td>\n",
       "      <td>Abnormal</td>\n",
       "    </tr>\n",
       "    <tr>\n",
       "      <th>4</th>\n",
       "      <td>0</td>\n",
       "      <td>45.061884</td>\n",
       "      <td>29.385491</td>\n",
       "      <td>24.071714</td>\n",
       "      <td>8.865329</td>\n",
       "      <td>1</td>\n",
       "      <td>Abnormal</td>\n",
       "    </tr>\n",
       "  </tbody>\n",
       "</table>\n",
       "</div>"
      ],
      "text/plain": [
       "   Sex  Red_Pixel  Green_pixel  Blue_pixel        Hb  Anaemic Hb_status\n",
       "0    1  43.170845    30.945626   25.921971  6.252659        1  Abnormal\n",
       "1    0  43.163481    30.306974   26.759843  8.578865        1  Abnormal\n",
       "2    0  46.269997    27.315656   26.028556  9.640936        1  Abnormal\n",
       "3    0  45.054787    30.469816   24.460797  4.794217        1  Abnormal\n",
       "4    0  45.061884    29.385491   24.071714  8.865329        1  Abnormal"
      ]
     },
     "execution_count": 52,
     "metadata": {},
     "output_type": "execute_result"
    }
   ],
   "source": [
    "# This column only for understaing abnormality of Hb\n",
    "\n",
    "anaemic['Sex'] = anaemic['Sex'].astype(int)\n",
    "anaemic['Anaemic'] = anaemic['Anaemic'].astype(int)\n",
    "def classify_hb(row):\n",
    "    if row['Sex'] == 0:\n",
    "        return 'Normal' if 12.1 <= row['Hb'] <= 15.1 else 'Abnormal'\n",
    "    elif row['Sex'] == 1:\n",
    "        return 'Normal' if 13.8 <= row['Hb'] <= 17.2 else 'Abnormal'\n",
    "    else:\n",
    "        return 'Unknown'\n",
    "    \n",
    "anaemic['Hb_status'] = anaemic.apply(classify_hb,axis=1)\n",
    "anaemic.head()"
   ]
  },
  {
   "cell_type": "code",
   "execution_count": 53,
   "id": "56f09e99-e727-4fd7-b017-988a9ce1efe5",
   "metadata": {},
   "outputs": [
    {
     "data": {
      "text/plain": [
       "Abnormal    372\n",
       "Normal      128\n",
       "Name: Hb_status, dtype: int64"
      ]
     },
     "execution_count": 53,
     "metadata": {},
     "output_type": "execute_result"
    }
   ],
   "source": [
    "anaemic.Hb_status.value_counts()"
   ]
  },
  {
   "cell_type": "code",
   "execution_count": 54,
   "id": "d9dbdfd5-bf79-4efa-bd33-2f2efc2188b4",
   "metadata": {},
   "outputs": [
    {
     "data": {
      "image/png": "[encoded data removed]",
      "text/plain": [
       "<Figure size 640x480 with 1 Axes>"
      ]
     },
     "metadata": {},
     "output_type": "display_data"
    }
   ],
   "source": [
    "# Create the count plot\n",
    "sex_Anaemic_plot = sns.countplot(data=anaemic, x='Sex', hue='Hb_status', palette='rocket_r')\n",
    "# Add labels to the bars\n",
    "for container in sex_Anaemic_plot.containers:\n",
    "    sex_Anaemic_plot.bar_label(container)\n",
    "plt.title(\"Relation Between Sex and Hb (1=Male,0=Female)\")\n",
    "plt.ylabel(\"Hb_status count\")\n",
    "plt.show()\n",
    "anaemic=anaemic.drop([\"Hb_status\"],axis=1)"
   ]
  },
  {
   "cell_type": "code",
   "execution_count": 55,
   "id": "f3084705-2387-45f4-b933-026628ab696d",
   "metadata": {},
   "outputs": [],
   "source": [
    "# Normal Hb Range:\n",
    "\n",
    "# Adults:\n",
    "#     Men: 40.7 to 50.3 (%) percentage\n",
    "#     Women (non-pregnant): 36.1 to 44.3 %"
   ]
  },
  {
   "cell_type": "code",
   "execution_count": 56,
   "id": "ca550ef8-be32-4c81-9ea0-f63532dc530b",
   "metadata": {},
   "outputs": [
    {
     "data": {
      "text/html": [
       "<div>\n",
       "<style scoped>\n",
       "    .dataframe tbody tr th:only-of-type {\n",
       "        vertical-align: middle;\n",
       "    }\n",
       "\n",
       "    .dataframe tbody tr th {\n",
       "        vertical-align: top;\n",
       "    }\n",
       "\n",
       "    .dataframe thead th {\n",
       "        text-align: right;\n",
       "    }\n",
       "</style>\n",
       "<table border=\"1\" class=\"dataframe\">\n",
       "  <thead>\n",
       "    <tr style=\"text-align: right;\">\n",
       "      <th></th>\n",
       "      <th>Sex</th>\n",
       "      <th>Red_Pixel</th>\n",
       "      <th>Green_pixel</th>\n",
       "      <th>Blue_pixel</th>\n",
       "      <th>Hb</th>\n",
       "      <th>Anaemic</th>\n",
       "      <th>Red_status</th>\n",
       "    </tr>\n",
       "  </thead>\n",
       "  <tbody>\n",
       "    <tr>\n",
       "      <th>0</th>\n",
       "      <td>1</td>\n",
       "      <td>43.170845</td>\n",
       "      <td>30.945626</td>\n",
       "      <td>25.921971</td>\n",
       "      <td>6.252659</td>\n",
       "      <td>1</td>\n",
       "      <td>Normal</td>\n",
       "    </tr>\n",
       "    <tr>\n",
       "      <th>1</th>\n",
       "      <td>0</td>\n",
       "      <td>43.163481</td>\n",
       "      <td>30.306974</td>\n",
       "      <td>26.759843</td>\n",
       "      <td>8.578865</td>\n",
       "      <td>1</td>\n",
       "      <td>Normal</td>\n",
       "    </tr>\n",
       "    <tr>\n",
       "      <th>2</th>\n",
       "      <td>0</td>\n",
       "      <td>46.269997</td>\n",
       "      <td>27.315656</td>\n",
       "      <td>26.028556</td>\n",
       "      <td>9.640936</td>\n",
       "      <td>1</td>\n",
       "      <td>Abnormal</td>\n",
       "    </tr>\n",
       "    <tr>\n",
       "      <th>3</th>\n",
       "      <td>0</td>\n",
       "      <td>45.054787</td>\n",
       "      <td>30.469816</td>\n",
       "      <td>24.460797</td>\n",
       "      <td>4.794217</td>\n",
       "      <td>1</td>\n",
       "      <td>Abnormal</td>\n",
       "    </tr>\n",
       "    <tr>\n",
       "      <th>4</th>\n",
       "      <td>0</td>\n",
       "      <td>45.061884</td>\n",
       "      <td>29.385491</td>\n",
       "      <td>24.071714</td>\n",
       "      <td>8.865329</td>\n",
       "      <td>1</td>\n",
       "      <td>Abnormal</td>\n",
       "    </tr>\n",
       "  </tbody>\n",
       "</table>\n",
       "</div>"
      ],
      "text/plain": [
       "   Sex  Red_Pixel  Green_pixel  Blue_pixel        Hb  Anaemic Red_status\n",
       "0    1  43.170845    30.945626   25.921971  6.252659        1     Normal\n",
       "1    0  43.163481    30.306974   26.759843  8.578865        1     Normal\n",
       "2    0  46.269997    27.315656   26.028556  9.640936        1   Abnormal\n",
       "3    0  45.054787    30.469816   24.460797  4.794217        1   Abnormal\n",
       "4    0  45.061884    29.385491   24.071714  8.865329        1   Abnormal"
      ]
     },
     "execution_count": 56,
     "metadata": {},
     "output_type": "execute_result"
    }
   ],
   "source": [
    "# This column only for understaing abnormality of Red pixel in blood\n",
    "\n",
    "anaemic['Sex'] = anaemic['Sex'].astype(int)\n",
    "anaemic['Anaemic'] = anaemic['Anaemic'].astype(int)\n",
    "def classify_Red(row):\n",
    "    if row['Sex'] == 0:\n",
    "        return 'Normal' if 36.1 <= row['Red_Pixel']<=44.3 else 'Abnormal'\n",
    "    elif row['Sex'] == 1:\n",
    "        return 'Normal' if 40.7 <= row['Red_Pixel']<=50.3 else 'Abnormal'\n",
    "    else:\n",
    "        return 'Unknown'\n",
    "    \n",
    "anaemic['Red_status'] = anaemic.apply(classify_Red,axis=1)\n",
    "anaemic.head()"
   ]
  },
  {
   "cell_type": "code",
   "execution_count": 57,
   "id": "7a5baece-c4be-4964-a07a-9f3a566d633f",
   "metadata": {},
   "outputs": [
    {
     "data": {
      "image/png": "[encoded data removed]",
      "text/plain": [
       "<Figure size 640x480 with 1 Axes>"
      ]
     },
     "metadata": {},
     "output_type": "display_data"
    }
   ],
   "source": [
    "# Create the count plot\n",
    "sex_Anaemic_plot = sns.countplot(data=anaemic, x='Sex', hue='Red_status', palette='rocket_r')\n",
    "# Add labels to the bars\n",
    "for container in sex_Anaemic_plot.containers:\n",
    "    sex_Anaemic_plot.bar_label(container)\n",
    "plt.title(\"Relation Between Sex and Red_Pixel (1=Male,0=Female)\")\n",
    "plt.ylabel(\"Red_status count\")\n",
    "plt.show()\n",
    "anaemic=anaemic.drop([\"Red_status\"],axis=1)"
   ]
  },
  {
   "cell_type": "code",
   "execution_count": 58,
   "id": "2c5cd7de-e5f5-48fc-834a-49064bc6c509",
   "metadata": {},
   "outputs": [
    {
     "data": {
      "text/html": [
       "<div>\n",
       "<style scoped>\n",
       "    .dataframe tbody tr th:only-of-type {\n",
       "        vertical-align: middle;\n",
       "    }\n",
       "\n",
       "    .dataframe tbody tr th {\n",
       "        vertical-align: top;\n",
       "    }\n",
       "\n",
       "    .dataframe thead th {\n",
       "        text-align: right;\n",
       "    }\n",
       "</style>\n",
       "<table border=\"1\" class=\"dataframe\">\n",
       "  <thead>\n",
       "    <tr style=\"text-align: right;\">\n",
       "      <th></th>\n",
       "      <th>model</th>\n",
       "      <th>best_params</th>\n",
       "      <th>best_score</th>\n",
       "    </tr>\n",
       "  </thead>\n",
       "  <tbody>\n",
       "    <tr>\n",
       "      <th>0</th>\n",
       "      <td>logistic</td>\n",
       "      <td>{}</td>\n",
       "      <td>0.990</td>\n",
       "    </tr>\n",
       "    <tr>\n",
       "      <th>1</th>\n",
       "      <td>random_forest</td>\n",
       "      <td>{'n_estimators': 1}</td>\n",
       "      <td>0.998</td>\n",
       "    </tr>\n",
       "    <tr>\n",
       "      <th>2</th>\n",
       "      <td>decision_tree</td>\n",
       "      <td>{}</td>\n",
       "      <td>0.994</td>\n",
       "    </tr>\n",
       "    <tr>\n",
       "      <th>3</th>\n",
       "      <td>Gaussian</td>\n",
       "      <td>{}</td>\n",
       "      <td>0.940</td>\n",
       "    </tr>\n",
       "    <tr>\n",
       "      <th>4</th>\n",
       "      <td>Bernouli</td>\n",
       "      <td>{}</td>\n",
       "      <td>0.610</td>\n",
       "    </tr>\n",
       "    <tr>\n",
       "      <th>5</th>\n",
       "      <td>svm</td>\n",
       "      <td>{'C': 1, 'gamma': 1, 'kernel': 'poly'}</td>\n",
       "      <td>0.998</td>\n",
       "    </tr>\n",
       "    <tr>\n",
       "      <th>6</th>\n",
       "      <td>knn</td>\n",
       "      <td>{'n_neighbors': 1}</td>\n",
       "      <td>0.998</td>\n",
       "    </tr>\n",
       "  </tbody>\n",
       "</table>\n",
       "</div>"
      ],
      "text/plain": [
       "           model                             best_params  best_score\n",
       "0       logistic                                      {}       0.990\n",
       "1  random_forest                     {'n_estimators': 1}       0.998\n",
       "2  decision_tree                                      {}       0.994\n",
       "3       Gaussian                                      {}       0.940\n",
       "4       Bernouli                                      {}       0.610\n",
       "5            svm  {'C': 1, 'gamma': 1, 'kernel': 'poly'}       0.998\n",
       "6            knn                      {'n_neighbors': 1}       0.998"
      ]
     },
     "execution_count": 58,
     "metadata": {},
     "output_type": "execute_result"
    }
   ],
   "source": [
    "x=anaemic.drop([\"Anaemic\"],axis=1)\n",
    "y=anaemic[\"Anaemic\"]\n",
    "models={\"logistic\":{'model':LogisticRegression(),\"params\":{}},\n",
    "       \"random_forest\":{\"model\":RandomForestClassifier(),\"params\":{\"n_estimators\":[1,10,20,100]}},\n",
    "       \"decision_tree\":{\"model\":DecisionTreeClassifier(),\"params\":{}},\n",
    "       \"Gaussian\":{\"model\":GaussianNB(),\"params\":{}},\n",
    "       \"Bernouli\":{\"model\":BernoulliNB(),\"params\":{}},\n",
    "        'svm':{\"model\":SVC(),\"params\":{\"gamma\":[1,2,100],\"C\":[1,2,5,100],\"kernel\":[\"poly\",\"linear\",\"sigmoid\",'rbf']}},\n",
    "        \"knn\":{\"model\":KNeighborsClassifier(),\"params\":{\"n_neighbors\":[1,10,20,100]}}}\n",
    "result=[]\n",
    "for i in models:\n",
    "    a=models.get(i)\n",
    "    model=a.get(\"model\")\n",
    "    params=a.get(\"params\")\n",
    "    cv=GridSearchCV(model,params,cv=5,return_train_score=True)\n",
    "    cv.fit(x,y)\n",
    "    bp=cv.best_params_\n",
    "    bs=cv.best_score_\n",
    "    t_res={\"model\":i,\"best_params\":bp,\"best_score\":bs}\n",
    "    result.append(t_res)\n",
    "f=pd.DataFrame(result)\n",
    "f"
   ]
  },
  {
   "cell_type": "code",
   "execution_count": 59,
   "id": "96521e67-3f70-4aea-a282-1ea5a3e1c296",
   "metadata": {},
   "outputs": [
    {
     "name": "stdout",
     "output_type": "stream",
     "text": [
      "           model                             best_params  best_score\n",
      "1  random_forest                     {'n_estimators': 1}       0.998\n",
      "5            svm  {'C': 1, 'gamma': 1, 'kernel': 'poly'}       0.998\n",
      "6            knn                      {'n_neighbors': 1}       0.998\n",
      "2  decision_tree                                      {}       0.994\n",
      "0       logistic                                      {}       0.990\n",
      "3       Gaussian                                      {}       0.940\n",
      "4       Bernouli                                      {}       0.610\n",
      "---------*-------------*-------------*-------------*-------------*----------\n",
      "best model and score is            model          best_params  best_score\n",
      "1  random_forest  {'n_estimators': 1}       0.998\n"
     ]
    }
   ],
   "source": [
    "sort_value=f.sort_values(\"best_score\",ascending=False)\n",
    "print(sort_value)\n",
    "print(\"---------*-------------*-------------*-------------*-------------*----------\")\n",
    "print(\"best model and score is\",sort_value.head(1))"
   ]
  },
  {
   "cell_type": "code",
   "execution_count": 60,
   "id": "6921ab59-961f-4edb-93f6-a8e69ba3e108",
   "metadata": {},
   "outputs": [
    {
     "data": {
      "text/plain": [
       "array([0, 0, 1, 0, 1, 1, 1, 0, 0, 1, 0, 1, 0, 0, 1, 0, 0, 1, 0, 1, 1, 0,\n",
       "       1, 1, 0, 1, 1, 1, 1, 1, 1, 1, 1, 1, 1, 0, 1, 1, 0, 0, 1, 1, 1, 0,\n",
       "       0, 1, 0, 0, 0, 1, 0, 0, 0, 0, 0, 1, 1, 1, 1, 0, 1, 0, 0, 0, 0, 0,\n",
       "       0, 1, 0, 1, 0, 1, 0, 0, 0, 0, 0, 1, 0, 0, 0, 0, 1, 0, 0, 1, 0, 0,\n",
       "       1, 1, 0, 0, 1, 0, 0, 1, 0, 0, 1, 1, 1, 0, 1, 0, 0, 1, 1, 0, 1, 0,\n",
       "       0, 1, 1, 1, 0, 1, 1, 1, 1, 1, 1, 1, 1, 1, 1, 0, 0, 0, 0, 0, 0, 1,\n",
       "       1, 1, 0, 1, 1, 0, 1, 1, 1, 0, 0, 1, 0, 0, 1, 1, 0, 1, 1, 1, 1, 1,\n",
       "       0, 1, 1, 0, 0, 1])"
      ]
     },
     "execution_count": 60,
     "metadata": {},
     "output_type": "execute_result"
    }
   ],
   "source": [
    "x=anaemic.drop([\"Anaemic\"],axis=1)\n",
    "y=anaemic[\"Anaemic\"]\n",
    "x_train, x_test, y_train, y_test = train_test_split(x, y, test_size=0.32, random_state=15)\n",
    "tree = DecisionTreeClassifier(random_state=24)\n",
    "\n",
    "# Train the classifier\n",
    "tree.fit(x_train, y_train)\n",
    "\n",
    "# Make predictions on the test set\n",
    "y_pred = tree.predict(x_test)\n",
    "y_pred"
   ]
  },
  {
   "cell_type": "code",
   "execution_count": 61,
   "id": "ba658e2f-d751-4859-a91d-d6be5e9468f7",
   "metadata": {},
   "outputs": [
    {
     "data": {
      "text/plain": [
       "<sklearn.metrics._plot.confusion_matrix.ConfusionMatrixDisplay at 0x295e2447410>"
      ]
     },
     "execution_count": 61,
     "metadata": {},
     "output_type": "execute_result"
    },
    {
     "data": {
      "image/png": "[encoded data removed]",
      "text/plain": [
       "<Figure size 640x480 with 2 Axes>"
      ]
     },
     "metadata": {},
     "output_type": "display_data"
    }
   ],
   "source": [
    "cm = confusion_matrix(y_test, y_pred)\n",
    "disp = ConfusionMatrixDisplay(confusion_matrix=cm, display_labels=[\"Positive\", \"Negative\"])\n",
    "disp.plot()"
   ]
  },
  {
   "cell_type": "code",
   "execution_count": 62,
   "id": "6a6fddb6-8e8c-4b62-a6b1-1f821b1497db",
   "metadata": {},
   "outputs": [
    {
     "name": "stdout",
     "output_type": "stream",
     "text": [
      "Accuracy: 0.99375\n",
      "Precision: 1.0\n",
      "Recall: 0.9880952380952381\n",
      "F1 Score: 0.9940119760479041\n",
      "\n",
      "Classification Report:\n",
      "\n",
      "              precision    recall  f1-score   support\n",
      "\n",
      "    Positive       0.99      1.00      0.99        76\n",
      "    Negative       1.00      0.99      0.99        84\n",
      "\n",
      "    accuracy                           0.99       160\n",
      "   macro avg       0.99      0.99      0.99       160\n",
      "weighted avg       0.99      0.99      0.99       160\n",
      "\n"
     ]
    }
   ],
   "source": [
    "# Basic metrics\n",
    "print(\"Accuracy:\",accuracy_score(y_test,y_pred))\n",
    "print(\"Precision:\",precision_score(y_test y_pred,pos_label=1))\n",
    "print(\"Recall:\",recall_score(y_test,y_pred,pos_label=1))\n",
    "print(\"F1 Score:\",f1_score(y_test,y_pred,pos_label=1))\n",
    "\n",
    "# Full classification report\n",
    "print(\"\\nClassification Report:\\n\")\n",
    "print(classification_report(y_test,y_pred,target_names=[\"Positive\",\"Negative\"]))\n"
   ]
  },
  {
   "cell_type": "code",
   "execution_count": 65,
   "id": "0809e85e-a259-4d84-a885-c90437323efd",
   "metadata": {},
   "outputs": [
    {
     "name": "stdout",
     "output_type": "stream",
     "text": [
      "Train Accuracy: 0.9941176470588236\n",
      "Test Accuracy: 0.99375\n"
     ]
    }
   ],
   "source": [
    "# Accuracy on training data\n",
    "model.fit(x_train,y_train)\n",
    "y_train_pred = model.predict(x_train)\n",
    "train_accuracy=accuracy_score(y_train,y_train_pred)\n",
    "\n",
    "# Accuracy on test data\n",
    "test_accuracy=accuracy_score(y_test, y_pred)\n",
    "\n",
    "print(\"Train Accuracy:\",train_accuracy)\n",
    "print(\"Test Accuracy:\",test_accuracy)\n"
   ]
  },
  {
   "cell_type": "code",
   "execution_count": null,
   "id": "68359eb8-e5d4-45ab-95a8-ce5d6a3c2d80",
   "metadata": {},
   "outputs": [],
   "source": []
  }
 ],
 "metadata": {
  "kernelspec": {
   "display_name": "Python 3 (ipykernel)",
   "language": "python",
   "name": "python3"
  },
  "language_info": {
   "codemirror_mode": {
    "name": "ipython",
    "version": 3
   },
   "file_extension": ".py",
   "mimetype": "text/x-python",
   "name": "python",
   "nbconvert_exporter": "python",
   "pygments_lexer": "ipython3",
   "version": "3.11.7"
  }
 },
 "nbformat": 4,
 "nbformat_minor": 5
}
